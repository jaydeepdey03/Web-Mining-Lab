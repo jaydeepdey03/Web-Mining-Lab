{
 "cells": [
  {
   "attachments": {},
   "cell_type": "markdown",
   "metadata": {},
   "source": [
    "<h4 align=\"center\">LINK ANALYSIS ALGORITHM</h4>\n",
    "\n",
    "<h4 align=\"center\">PART A - HUBS AND AUTHORITY USING HITS ALGORITHM</h4>"
   ]
  },
  {
   "cell_type": "code",
   "execution_count": 3,
   "metadata": {},
   "outputs": [],
   "source": [
    "import math\n",
    "import networkx as nx\n",
    "import matplotlib.pyplot as plt"
   ]
  },
  {
   "cell_type": "code",
   "execution_count": 4,
   "metadata": {},
   "outputs": [],
   "source": [
    "# Verify the consistency of results obtained with the Custom Implementation using K=4.\n",
    "\n",
    "vertices_names = ['A', 'B', 'C', 'D','E']\n",
    "num_vertices = 5\n",
    "k=4"
   ]
  },
  {
   "cell_type": "code",
   "execution_count": 5,
   "metadata": {},
   "outputs": [],
   "source": [
    "A = [[1,0, 0, 0, 0],\n",
    " [1, 0, 1, 0, 1],\n",
    " [1, 0, 0, 1, 1],\n",
    " [1, 0, 0, 0, 0],\n",
    " [1, 0, 0, 0, 1]]"
   ]
  },
  {
   "cell_type": "code",
   "execution_count": 6,
   "metadata": {},
   "outputs": [
    {
     "data": {
      "text/plain": [
       "[[0], [0, 2, 4], [0, 3, 4], [0], [0, 4]]"
      ]
     },
     "execution_count": 6,
     "metadata": {},
     "output_type": "execute_result"
    }
   ],
   "source": [
    "# find the outbound vertices\n",
    "\n",
    "outbound_vertices = []\n",
    "\n",
    "for i in range(5):\n",
    "    temp = []\n",
    "    for j in range(5):\n",
    "        if(A[i][j] == 1):\n",
    "            temp.append(j)\n",
    "    outbound_vertices.append(temp)\n",
    "\n",
    "outbound_vertices"
   ]
  },
  {
   "cell_type": "code",
   "execution_count": 7,
   "metadata": {},
   "outputs": [
    {
     "data": {
      "text/plain": [
       "[[0, 1, 2, 3, 4], [], [1], [2], [1, 2, 4]]"
      ]
     },
     "execution_count": 7,
     "metadata": {},
     "output_type": "execute_result"
    }
   ],
   "source": [
    "# find the inbound vertices\n",
    "\n",
    "inbound_vertices = []\n",
    "\n",
    "for i in range(5):\n",
    "    temp = []\n",
    "    for j in range(5):\n",
    "        if(A[j][i] == 1):\n",
    "            temp.append(j)\n",
    "    inbound_vertices.append(temp)\n",
    "\n",
    "inbound_vertices"
   ]
  },
  {
   "cell_type": "code",
   "execution_count": 8,
   "metadata": {},
   "outputs": [],
   "source": [
    "authority_score = [1] * 5\n",
    "hub_score = [1] * 5"
   ]
  },
  {
   "cell_type": "code",
   "execution_count": 9,
   "metadata": {},
   "outputs": [],
   "source": [
    "for itr in range(k) :\n",
    "    old_authority_scores = authority_score[:]\n",
    "    old_hub_scores = hub_score[:]\n",
    "    for i in range(5) :\n",
    "        authority_score[i] = sum([old_hub_scores[j] for j in inbound_vertices[i]])\n",
    "        hub_score[i] = sum([old_authority_scores[j] for j in outbound_vertices[i]])\n",
    "    a_normal = math.sqrt(sum([i**2 for i in authority_score]))\n",
    "    h_normal = math.sqrt(sum([i**2 for i in hub_score]))\n",
    "    for i in range(5) :\n",
    "        authority_score[i] = authority_score[i] / a_normal\n",
    "        hub_score[i] = hub_score[i] / h_normal"
   ]
  },
  {
   "cell_type": "code",
   "execution_count": 10,
   "metadata": {},
   "outputs": [
    {
     "name": "stdout",
     "output_type": "stream",
     "text": [
      "The Authority scores of the nodes after 4 iterations : \n",
      "A  :  0.7668945054590078\n",
      "B  :  0.0\n",
      "C  :  0.2013098076829896\n",
      "D  :  0.2013098076829896\n",
      "E  :  0.5751708790942559\n"
     ]
    }
   ],
   "source": [
    "print(f\"The Authority scores of the nodes after {k} iterations : \")\n",
    "for i in range(5) :\n",
    "    print(vertices_names[i], \" : \", authority_score[i])"
   ]
  },
  {
   "cell_type": "code",
   "execution_count": 11,
   "metadata": {},
   "outputs": [
    {
     "name": "stdout",
     "output_type": "stream",
     "text": [
      "The Hub scores of the nodes after 4 iterations : \n",
      "A  :  0.28010687597551287\n",
      "B  :  0.5524330053961504\n",
      "C  :  0.5524330053961504\n",
      "D  :  0.28010687597551287\n",
      "E  :  0.4824062864022721\n"
     ]
    }
   ],
   "source": [
    "print(f\"The Hub scores of the nodes after {k} iterations : \")\n",
    "for i in range(5) :\n",
    "    print(vertices_names[i], \" : \", hub_score[i])"
   ]
  },
  {
   "attachments": {},
   "cell_type": "markdown",
   "metadata": {},
   "source": [
    "<h4 align=\"center\"> Use inbuilt HITS Algorithm function using k=4</h4>"
   ]
  },
  {
   "cell_type": "code",
   "execution_count": 12,
   "metadata": {},
   "outputs": [],
   "source": [
    "G = nx.DiGraph()\n",
    "G.add_nodes_from(vertices_names)\n",
    "G.add_edges_from([('A','A'),('B','A'),('B','C'),('B','E'),('C','A'),('C','D'),('C','E'),('D','A'),('E','A'),('E','E')])"
   ]
  },
  {
   "cell_type": "code",
   "execution_count": 13,
   "metadata": {},
   "outputs": [
    {
     "data": {
      "image/png": "[encoded data removed]",
      "text/plain": [
       "<Figure size 432x288 with 1 Axes>"
      ]
     },
     "metadata": {},
     "output_type": "display_data"
    }
   ],
   "source": [
    "nx.draw_networkx(G, pos=nx.circular_layout(G), arrows=True, with_labels=True)\n",
    "plt.show()"
   ]
  },
  {
   "cell_type": "code",
   "execution_count": 14,
   "metadata": {},
   "outputs": [],
   "source": [
    "hub_scores_networkx, authority_scores_networkx = nx.hits(G, normalized = True)"
   ]
  },
  {
   "cell_type": "code",
   "execution_count": 15,
   "metadata": {},
   "outputs": [
    {
     "name": "stdout",
     "output_type": "stream",
     "text": [
      "The Authority scores of the nodes using Networkx library : \n",
      "A  :  0.4428026084897247\n",
      "B  :  -4.773201134294743e-17\n",
      "C  :  0.11439478302055078\n",
      "D  :  0.11439478302055077\n",
      "E  :  0.3284078254691738\n"
     ]
    }
   ],
   "source": [
    "print(\"The Authority scores of the nodes using Networkx library : \")\n",
    "for k, v in sorted(authority_scores_networkx.items()):\n",
    "    print(k, \" : \", v)"
   ]
  },
  {
   "cell_type": "code",
   "execution_count": 16,
   "metadata": {},
   "outputs": [
    {
     "name": "stdout",
     "output_type": "stream",
     "text": [
      "The Hub scores of the nodes using Networkx library : \n",
      "A  :  0.12917130661302934\n",
      "B  :  0.2583426132260586\n",
      "C  :  0.2583426132260586\n",
      "D  :  0.12917130661302934\n",
      "E  :  0.22497216032182416\n"
     ]
    }
   ],
   "source": [
    "print(\"The Hub scores of the nodes using Networkx library : \")\n",
    "for k, v in sorted(hub_scores_networkx.items()) :\n",
    "    print(k, \" : \", v)"
   ]
  },
  {
   "cell_type": "code",
   "execution_count": 17,
   "metadata": {},
   "outputs": [],
   "source": [
    "# Implement the basic PageRank algorithm using Python to display the rank of ALL pages."
   ]
  },
  {
   "cell_type": "code",
   "execution_count": 18,
   "metadata": {},
   "outputs": [
    {
     "data": {
      "image/png": "[encoded data removed]",
      "text/plain": [
       "<Figure size 432x288 with 1 Axes>"
      ]
     },
     "metadata": {},
     "output_type": "display_data"
    }
   ],
   "source": [
    "G1 = nx.DiGraph()\n",
    "vertices_name1 = ['A', 'B', 'C', 'D','E','F','G','H']\n",
    "G1.add_nodes_from(vertices_names)\n",
    "G1.add_edges_from([('A','F'),('C','B'),('D','A'),('D','E'),('D','G'),('E','B'),('E','C'),('E','H'),('F','E'),('G','F'), ('G','A'),('G','B'),('G','C'),('H','D'), ('H', 'B')])\n",
    "\n",
    "nx.draw_networkx(G1, pos=nx.circular_layout(G1), arrows=True, with_labels=True)\n",
    "plt.show()"
   ]
  },
  {
   "cell_type": "code",
   "execution_count": 27,
   "metadata": {},
   "outputs": [
    {
     "name": "stdout",
     "output_type": "stream",
     "text": [
      "[('B', 26923), ('E', 18512), ('F', 12442), ('C', 10908), ('H', 9554), ('D', 8037), ('A', 7550), ('G', 6075)]\n"
     ]
    }
   ],
   "source": [
    "# PageRank Algorithm random walk on graph G1\n",
    "import random\n",
    "x = random.choice([i for i in vertices_name1])\n",
    "\n",
    "dict_count = dict()\n",
    "\n",
    "for i in vertices_name1:\n",
    "    dict_count[i] = 0\n",
    "\n",
    "dict_count[x] += 1\n",
    "\n",
    "for i in range(100000):\n",
    "    list_n = list(G1.neighbors(x))\n",
    "    if(len(list_n) == 0):\n",
    "        x = random.choice([i for i in vertices_name1])\n",
    "        dict_count[x] += 1\n",
    "    else:\n",
    "        x = random.choice(list_n)\n",
    "        dict_count[x] += 1\n",
    "\n",
    "print(sorted(dict_count.items(), key=lambda x: x[1], reverse=True))"
   ]
  },
  {
   "cell_type": "code",
   "execution_count": 29,
   "metadata": {},
   "outputs": [
    {
     "name": "stdout",
     "output_type": "stream",
     "text": [
      "[('B', 0.2450353582411633), ('E', 0.1799923540181093), ('F', 0.13056974349060702), ('C', 0.11044717161676978), ('H', 0.09578310995085478), ('D', 0.08549280896262565), ('A', 0.08367175769289253), ('G', 0.06900769602697754)]\n"
     ]
    }
   ],
   "source": [
    "from networkx import pagerank\n",
    "\n",
    "print(sorted(pagerank(G1).items(), key=lambda x: x[1], reverse=True))"
   ]
  }
 ],
 "metadata": {
  "kernelspec": {
   "display_name": "Python 3",
   "language": "python",
   "name": "python3"
  },
  "language_info": {
   "codemirror_mode": {
    "name": "ipython",
    "version": 3
   },
   "file_extension": ".py",
   "mimetype": "text/x-python",
   "name": "python",
   "nbconvert_exporter": "python",
   "pygments_lexer": "ipython3",
   "version": "3.8.7"
  },
  "orig_nbformat": 4,
  "vscode": {
   "interpreter": {
    "hash": "28e1b576861228abcf292d5aee661eb2e4c4972fc2d268dd66cc4c0717cd3198"
   }
  }
 },
 "nbformat": 4,
 "nbformat_minor": 2
}
