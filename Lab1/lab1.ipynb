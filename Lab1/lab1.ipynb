{
 "cells": [
  {
   "attachments": {},
   "cell_type": "markdown",
   "metadata": {},
   "source": [
    "<p align=\"center\">Jaydeep Dey 20BCE1419</p>"
   ]
  },
  {
   "attachments": {},
   "cell_type": "markdown",
   "metadata": {},
   "source": [
    "## Question 1"
   ]
  },
  {
   "cell_type": "code",
   "execution_count": 195,
   "metadata": {},
   "outputs": [],
   "source": [
    "import requests\n",
    "from bs4 import BeautifulSoup\n",
    "import re"
   ]
  },
  {
   "cell_type": "code",
   "execution_count": 196,
   "metadata": {},
   "outputs": [],
   "source": [
    "root_URL = \"http://www.vit.ac.in\" \n",
    "search_word = \"research\" "
   ]
  },
  {
   "cell_type": "code",
   "execution_count": 197,
   "metadata": {},
   "outputs": [
    {
     "name": "stdout",
     "output_type": "stream",
     "text": [
      "Status of the response :  200\n"
     ]
    }
   ],
   "source": [
    "response = requests.get(root_URL) \n",
    "print(\"Status of the response : \", response.status_code) "
   ]
  },
  {
   "cell_type": "code",
   "execution_count": 198,
   "metadata": {},
   "outputs": [],
   "source": [
    "root_page = BeautifulSoup(response.content, 'html.parser')"
   ]
  },
  {
   "cell_type": "code",
   "execution_count": 199,
   "metadata": {},
   "outputs": [],
   "source": [
    "# Retrieve all the links to the sub-pages by retrieving all the `` tags\n",
    "\n",
    "anchor_tags = root_page.find_all('a')\n",
    "\n",
    "result = []\n",
    "\n",
    "# Check if the word \"admission\" is present in each page, and if so then save its URL\n",
    "for anchor_tag in anchor_tags :\n",
    "    link = anchor_tag['href']\n",
    "    if re.search(search_word, link, re.IGNORECASE) :\n",
    "        result.append(link)"
   ]
  },
  {
   "cell_type": "code",
   "execution_count": 200,
   "metadata": {},
   "outputs": [
    {
     "name": "stdout",
     "output_type": "stream",
     "text": [
      "The links in the root URL page which contains the word 'research' are :\n",
      "\t https://vit.ac.in/admissions/research\n",
      "\t https://vit.ac.in/research\n",
      "\t https://vit.ac.in/research\n",
      "\t https://vit.ac.in/research/academic\n",
      "\t https://vit.ac.in/research/sponsored-research\n",
      "\t https://vit.ac.in/research/centers-list\n",
      "\t https://vit.ac.in/schools-centres-list-research-guides-2022\n",
      "\t 3d-printing-play-major-role-mitigating-spread-covid-19-say-researchers-vit\n",
      "\t 3d-printing-play-major-role-mitigating-spread-covid-19-say-researchers-vit\n",
      "\t https://vit.ac.in/research\n"
     ]
    }
   ],
   "source": [
    "print(\"The links in the root URL page which contains the word 'research' are :\")\n",
    "for url in result :\n",
    "    print(\"\\t\", url)"
   ]
  },
  {
   "attachments": {},
   "cell_type": "markdown",
   "metadata": {},
   "source": [
    "## Question 2"
   ]
  },
  {
   "attachments": {},
   "cell_type": "markdown",
   "metadata": {},
   "source": [
    "Find documents that contain the word “admissions” and the word “international” within the URL “Vit.ac.in” using Python."
   ]
  },
  {
   "cell_type": "code",
   "execution_count": 201,
   "metadata": {},
   "outputs": [],
   "source": [
    "import requests \n",
    "from bs4 import BeautifulSoup \n",
    "import re "
   ]
  },
  {
   "cell_type": "code",
   "execution_count": 202,
   "metadata": {},
   "outputs": [],
   "source": [
    "root_URL = \"http://www.vit.ac.in\" \n",
    "search_words = ['admissions', 'international'] "
   ]
  },
  {
   "cell_type": "code",
   "execution_count": 203,
   "metadata": {},
   "outputs": [
    {
     "name": "stdout",
     "output_type": "stream",
     "text": [
      "Status of the response :  200\n"
     ]
    }
   ],
   "source": [
    "response = requests.get(root_URL) \n",
    "print(\"Status of the response : \", response.status_code)"
   ]
  },
  {
   "cell_type": "code",
   "execution_count": 204,
   "metadata": {},
   "outputs": [],
   "source": [
    "root_page = BeautifulSoup(response.content, 'html.parser')"
   ]
  },
  {
   "cell_type": "code",
   "execution_count": 205,
   "metadata": {},
   "outputs": [],
   "source": [
    "anchor_tags = root_page.find_all('a') "
   ]
  },
  {
   "cell_type": "code",
   "execution_count": 206,
   "metadata": {},
   "outputs": [],
   "source": [
    "valid_links = [] \n",
    "for anchor_tag in anchor_tags : \n",
    "    link = anchor_tag['href'] \n",
    "    if link.startswith(\"http\") : \n",
    "        if link not in valid_links : \n",
    "            valid_links.append(link) "
   ]
  },
  {
   "cell_type": "code",
   "execution_count": 207,
   "metadata": {},
   "outputs": [
    {
     "name": "stdout",
     "output_type": "stream",
     "text": [
      "The number of documents/pages linked to the current root page is :  166\n"
     ]
    }
   ],
   "source": [
    "print(\"The number of documents/pages linked to the current root page is : \", len (valid_links)) "
   ]
  },
  {
   "cell_type": "code",
   "execution_count": 208,
   "metadata": {},
   "outputs": [],
   "source": [
    "result=[]\n",
    "failed=[]"
   ]
  },
  {
   "cell_type": "code",
   "execution_count": 209,
   "metadata": {},
   "outputs": [
    {
     "name": "stderr",
     "output_type": "stream",
     "text": [
      "c:\\Users\\jayde\\AppData\\Local\\Programs\\Python\\Python38\\lib\\site-packages\\urllib3\\connectionpool.py:842: InsecureRequestWarning: Unverified HTTPS request is being made. Adding certificate verification is strongly advised. See: https://urllib3.readthedocs.io/en/latest/advanced-usage.html#ssl-warnings\n",
      "  warnings.warn((\n",
      "c:\\Users\\jayde\\AppData\\Local\\Programs\\Python\\Python38\\lib\\site-packages\\urllib3\\connectionpool.py:842: InsecureRequestWarning: Unverified HTTPS request is being made. Adding certificate verification is strongly advised. See: https://urllib3.readthedocs.io/en/latest/advanced-usage.html#ssl-warnings\n",
      "  warnings.warn((\n"
     ]
    }
   ],
   "source": [
    "for link in valid_links : \n",
    "    try : \n",
    "        page = requests.get(link).text \n",
    "    except requests.ConnectionError :\n",
    "        try : \n",
    "            page = requests.get(link, verify=False).text \n",
    "        except : \n",
    "            failed.append(link) \n",
    "        continue \n",
    "    if (re.search(search_words[0], page, re.IGNORECASE)) and (re.search(search_words[1], page, re.IGNORECASE)) : \n",
    "        result.append(link) "
   ]
  },
  {
   "cell_type": "code",
   "execution_count": 210,
   "metadata": {},
   "outputs": [
    {
     "name": "stdout",
     "output_type": "stream",
     "text": [
      "The links in the root URL page which contains the word 'admissions', and 'international' are :\n",
      "\t https://vitap.ac.in/\n",
      "\t https://vitbhopal.ac.in/\n",
      "\t https://vit.ac.in\n",
      "\t https://vit.ac.in/about-vit\n",
      "\t https://vit.ac.in/about/vision-mission\n",
      "\t https://vit.ac.in/vit-milestones\n",
      "\t https://vit.ac.in/about/leadership\n",
      "\t https://vit.ac.in/governance\n",
      "\t https://vit.ac.in/about/administrative-offices\n",
      "\t https://vit.ac.in/about/infrastructure\n",
      "\t https://vit.ac.in/about/sustainability\n",
      "\t https://vit.ac.in/true-green\n",
      "\t https://vit.ac.in/about/community-outreach\n",
      "\t https://vit.ac.in/about/communityradio\n",
      "\t https://vit.ac.in/all-news-archieved\n",
      "\t https://vit.ac.in/all-events\n",
      "\t https://vit.ac.in/national-institutional-ranking-framework-nirf\n",
      "\t https://vit.ac.in/mhrdugcaicte\n",
      "\t https://vit.ac.in/about/news-letter\n",
      "\t https://vit.ac.in/academics/home\n",
      "\t https://vit.ac.in/programmes-offered-1\n",
      "\t https://vit.ac.in/programmes-offered-2021-22\n",
      "\t https://vit.ac.in/programmes-offered-2020-21\n",
      "\t https://vit.ac.in/schools\n",
      "\t https://vit.ac.in/academics/ffcs\n"
     ]
    }
   ],
   "source": [
    "print(\"The links in the root URL page which contains the word 'admissions', and 'international' are :\")\n",
    "ans = []\n",
    "for i in range(25):\n",
    "      ans.append(result[i])\n",
    "for url in ans : \n",
    "      print(\"\\t\", url) "
   ]
  },
  {
   "cell_type": "code",
   "execution_count": 211,
   "metadata": {},
   "outputs": [
    {
     "name": "stdout",
     "output_type": "stream",
     "text": [
      "The links that we failed to open are : \n",
      "\t http://intranet.vit.ac.in\n",
      "\t http://intranet.vit.ac.in/\n"
     ]
    }
   ],
   "source": [
    "print(\"The links that we failed to open are : \")\n",
    "for url in failed : \n",
    "    print(\"\\t\", url) "
   ]
  },
  {
   "attachments": {},
   "cell_type": "markdown",
   "metadata": {},
   "source": [
    "## Question 3"
   ]
  },
  {
   "attachments": {},
   "cell_type": "markdown",
   "metadata": {},
   "source": [
    "Find documents that contain the word “Programme” but not the word “programming” within the URL “Vit.ac.in” using Python."
   ]
  },
  {
   "cell_type": "code",
   "execution_count": 212,
   "metadata": {},
   "outputs": [],
   "source": [
    "import requests \n",
    "from bs4 import BeautifulSoup \n",
    "import re"
   ]
  },
  {
   "cell_type": "code",
   "execution_count": 213,
   "metadata": {},
   "outputs": [],
   "source": [
    "root_URL = \"http://www.vit.ac.in\" \n",
    "search_word_1 = \"Programme\" \n",
    "search_word_2 = \"Programming\" "
   ]
  },
  {
   "cell_type": "code",
   "execution_count": 214,
   "metadata": {},
   "outputs": [
    {
     "name": "stdout",
     "output_type": "stream",
     "text": [
      "Status of the response :  200\n"
     ]
    }
   ],
   "source": [
    "response = requests.get(root_URL) \n",
    "print(\"Status of the response : \", response.status_code)"
   ]
  },
  {
   "cell_type": "code",
   "execution_count": 215,
   "metadata": {},
   "outputs": [],
   "source": [
    "root_page = BeautifulSoup(response.content, 'html.parser')"
   ]
  },
  {
   "cell_type": "code",
   "execution_count": 216,
   "metadata": {},
   "outputs": [],
   "source": [
    "anchor_tags = root_page.find_all('a') "
   ]
  },
  {
   "cell_type": "code",
   "execution_count": 217,
   "metadata": {},
   "outputs": [],
   "source": [
    "valid_links = [] \n",
    "for anchor_tag in anchor_tags : \n",
    "    link = anchor_tag['href'] \n",
    "    if link.startswith(\"http\") : \n",
    "        if link not in valid_links : \n",
    "            valid_links.append(link) "
   ]
  },
  {
   "cell_type": "code",
   "execution_count": 218,
   "metadata": {},
   "outputs": [
    {
     "name": "stdout",
     "output_type": "stream",
     "text": [
      "The number of documents/pages linked to the current root page is :  166\n"
     ]
    }
   ],
   "source": [
    "print(\"The number of documents/pages linked to the current root page is : \", len (valid_links)) "
   ]
  },
  {
   "cell_type": "code",
   "execution_count": 219,
   "metadata": {},
   "outputs": [],
   "source": [
    "result=[]\n",
    "failed=[]"
   ]
  },
  {
   "cell_type": "code",
   "execution_count": 220,
   "metadata": {},
   "outputs": [
    {
     "name": "stderr",
     "output_type": "stream",
     "text": [
      "c:\\Users\\jayde\\AppData\\Local\\Programs\\Python\\Python38\\lib\\site-packages\\urllib3\\connectionpool.py:842: InsecureRequestWarning: Unverified HTTPS request is being made. Adding certificate verification is strongly advised. See: https://urllib3.readthedocs.io/en/latest/advanced-usage.html#ssl-warnings\n",
      "  warnings.warn((\n"
     ]
    }
   ],
   "source": [
    "for link in valid_links : \n",
    "    try : \n",
    "        page = requests.get(link).text \n",
    "    except requests.ConnectionError : \n",
    "        try : \n",
    "            page = requests.get(link, verify=False).text \n",
    "        except : \n",
    "            failed.append(link) \n",
    "        continue \n",
    "    if (re.search(search_word_1, page, re.IGNORECASE)) and (not re.search(search_word_2, page, re.IGNORECASE)) :\n",
    "        result.append(link) "
   ]
  },
  {
   "cell_type": "code",
   "execution_count": 221,
   "metadata": {},
   "outputs": [
    {
     "name": "stdout",
     "output_type": "stream",
     "text": [
      "The links in the root URL page which contains the word 'Programme' but not the word 'programming' are :\n",
      "\t https://vitap.ac.in/\n",
      "\t https://vitbhopal.ac.in/\n",
      "\t https://vit.ac.in\n",
      "\t https://vit.ac.in/about-vit\n",
      "\t https://vit.ac.in/about/vision-mission\n"
     ]
    }
   ],
   "source": [
    "print(\"The links in the root URL page which contains the word 'Programme' but not the word 'programming' are :\") \n",
    "ans = []\n",
    "for i in range(5):\n",
    "      ans.append(result[i])\n",
    "for url in ans : \n",
    "    print(\"\\t\", url) "
   ]
  },
  {
   "attachments": {},
   "cell_type": "markdown",
   "metadata": {},
   "source": [
    "## Question 4"
   ]
  },
  {
   "attachments": {},
   "cell_type": "markdown",
   "metadata": {},
   "source": [
    "Write a web crawler program which takes as input a url(Educational Website), a search word and maximum number of pages(15-20 Pages) to be searched and returns as output all the web pages it searched till it found the search word on a web page or return failure."
   ]
  },
  {
   "cell_type": "code",
   "execution_count": 222,
   "metadata": {},
   "outputs": [],
   "source": [
    "import requests\n",
    "from bs4 import BeautifulSoup\n",
    "import re"
   ]
  },
  {
   "cell_type": "code",
   "execution_count": 223,
   "metadata": {},
   "outputs": [],
   "source": [
    "seedURL4 = input(\"Enter the Input URL:\") \n",
    "searchWord = input(\"Enter the Search Word: \") \n",
    "maxPages = int(input(\"Enter the Max Pages:\")) \n"
   ]
  },
  {
   "cell_type": "code",
   "execution_count": 224,
   "metadata": {},
   "outputs": [
    {
     "name": "stdout",
     "output_type": "stream",
     "text": [
      "Status of the response :  200\n"
     ]
    }
   ],
   "source": [
    "response = requests.get(seedURL4) \n",
    "print(\"Status of the response : \", response.status_code) \n",
    "rootPage=BeautifulSoup(response.content,'html.parser')"
   ]
  },
  {
   "cell_type": "code",
   "execution_count": 225,
   "metadata": {},
   "outputs": [],
   "source": [
    "atags=rootPage.find_all('a')\n",
    "validLinks= []"
   ]
  },
  {
   "cell_type": "code",
   "execution_count": 226,
   "metadata": {},
   "outputs": [
    {
     "name": "stdout",
     "output_type": "stream",
     "text": [
      "Total Number of Documents is 124\n"
     ]
    }
   ],
   "source": [
    "for atag in atags:\n",
    "    try:\n",
    "        link=atag['href']\n",
    "        if link.startswith(\"http\") : \n",
    "            if link not in validLinks : \n",
    "                validLinks.append(link) \n",
    "    except:\n",
    "        pass\n",
    "print(\"Total Number of Documents is {}\".format(len(validLinks)))"
   ]
  },
  {
   "cell_type": "code",
   "execution_count": 227,
   "metadata": {},
   "outputs": [],
   "source": [
    "final= []\n",
    "foundPages=0\n",
    "failed= []\n",
    "pages=0"
   ]
  },
  {
   "cell_type": "code",
   "execution_count": 228,
   "metadata": {},
   "outputs": [
    {
     "name": "stderr",
     "output_type": "stream",
     "text": [
      "c:\\Users\\jayde\\AppData\\Local\\Programs\\Python\\Python38\\lib\\site-packages\\urllib3\\connectionpool.py:842: InsecureRequestWarning: Unverified HTTPS request is being made. Adding certificate verification is strongly advised. See: https://urllib3.readthedocs.io/en/latest/advanced-usage.html#ssl-warnings\n",
      "  warnings.warn((\n"
     ]
    },
    {
     "name": "stdout",
     "output_type": "stream",
     "text": [
      "The Documents that Contain the Word research is \n",
      "\t http://www.vit.ac.in/\n",
      "\t http://vitbhopal.ac.in/\n",
      "\t https://vitap.ac.in\n",
      "\t https://vitap.ac.in/admission/overview/\n",
      "\t https://vitap.ac.in/btech/\n",
      "\t https://vitap.ac.in/vit-ap-school-of-business/\n",
      "\t https://vitap.ac.in/school-of-law/\n",
      "\t https://vitap.ac.in/m-a/\n",
      "\t https://vitap.ac.in/bscmsc/\n",
      "\t https://vitap.ac.in/m-sc/\n"
     ]
    }
   ],
   "source": [
    "for link in validLinks : \n",
    "    if(pages==maxPages):\n",
    "        break\n",
    "    try : \n",
    "        page = requests.get(link).text \n",
    "    except requests.ConnectionError :\n",
    "        try : \n",
    "            page = requests.get(link, verify=False).text \n",
    "        except : \n",
    "            failed.append(link) \n",
    "        continue \n",
    "    if (re.search(searchWord, page, re.IGNORECASE)):\n",
    "        final.append(link)\n",
    "        foundPages+=1\n",
    "    pages+=1\n",
    "if(foundPages==0):\n",
    "    print(\"Failure\")\n",
    "else:\n",
    "    print(\"The Documents that Contain the Word {} is \".format(searchWord))\n",
    "    for i in final:\n",
    "        print(\"\\t\",i)"
   ]
  },
  {
   "attachments": {},
   "cell_type": "markdown",
   "metadata": {},
   "source": [
    "## Question 5"
   ]
  },
  {
   "attachments": {},
   "cell_type": "markdown",
   "metadata": {},
   "source": [
    "Write a Python program to read the given website and extract the phone numbers and emails and contact addresses from Chennai, Amaravathi, Bhopal vit website."
   ]
  },
  {
   "cell_type": "code",
   "execution_count": 229,
   "metadata": {},
   "outputs": [],
   "source": [
    "from bs4 import BeautifulSoup \n",
    "import requests"
   ]
  },
  {
   "cell_type": "code",
   "execution_count": 230,
   "metadata": {},
   "outputs": [],
   "source": [
    "seedUrl = [\"https://vit.ac.in/\",\"https://chennai.vit.ac.in/\", \"https://vitap.ac.in/\", \"https://vitbhopal.ac.in/\"]\n",
    "\n",
    "f = open(\"link.txt\", \"w\")"
   ]
  },
  {
   "cell_type": "code",
   "execution_count": 231,
   "metadata": {},
   "outputs": [
    {
     "name": "stderr",
     "output_type": "stream",
     "text": [
      "c:\\Users\\jayde\\AppData\\Local\\Programs\\Python\\Python38\\lib\\site-packages\\urllib3\\connectionpool.py:842: InsecureRequestWarning: Unverified HTTPS request is being made. Adding certificate verification is strongly advised. See: https://urllib3.readthedocs.io/en/latest/advanced-usage.html#ssl-warnings\n",
      "  warnings.warn((\n",
      "c:\\Users\\jayde\\AppData\\Local\\Programs\\Python\\Python38\\lib\\site-packages\\urllib3\\connectionpool.py:842: InsecureRequestWarning: Unverified HTTPS request is being made. Adding certificate verification is strongly advised. See: https://urllib3.readthedocs.io/en/latest/advanced-usage.html#ssl-warnings\n",
      "  warnings.warn((\n",
      "c:\\Users\\jayde\\AppData\\Local\\Programs\\Python\\Python38\\lib\\site-packages\\urllib3\\connectionpool.py:842: InsecureRequestWarning: Unverified HTTPS request is being made. Adding certificate verification is strongly advised. See: https://urllib3.readthedocs.io/en/latest/advanced-usage.html#ssl-warnings\n",
      "  warnings.warn((\n",
      "c:\\Users\\jayde\\AppData\\Local\\Programs\\Python\\Python38\\lib\\site-packages\\urllib3\\connectionpool.py:842: InsecureRequestWarning: Unverified HTTPS request is being made. Adding certificate verification is strongly advised. See: https://urllib3.readthedocs.io/en/latest/advanced-usage.html#ssl-warnings\n",
      "  warnings.warn((\n"
     ]
    },
    {
     "name": "stdout",
     "output_type": "stream",
     "text": [
      "9398902106cw.cc@vit.ac.in wlh.cc@vit.ac.in transport.cc@vit.ac.in cw.cc@vit.ac.in wlh.cc@vit.ac.in transport.cc@vit.ac.in admin.chennai@vit.ac.in8272122876 8272215041 8272239968 8272270359 8272298574 8659071608 8588684987 8679772278 8634261762 8634270077 9038225429 7121194580 8634261762 8588708437 8634261762 8588708437 8201114257 8201114257 8588708437 8588708437 8659971350 9315459946 8679772278 7358782569 8272122876 8634261762 9038225429 8634270077 7121194580 7358782569 8634261762 8272215041 8588708437 8272239968 8634261762 8272270359 8588708437 8272298574 8201114257 8201114257 8588708437 8659071608 8588708437 8659971350 9315459946 85886849877868934148 7868934148 7868934148 7797590012 9520281387info@vitbhopal.ac.in placement@vitbhopal.ac.in admissions@vitbhopal.ac.in wardenmh@vitbhopal.ac.in wardenlh@vitbhopal.ac.in9662422233 8194455437 8262477098 8876659932 7795006127 8612877226 7709999738 7986318372 8845910171 8876348337 8945379300 8945479108 8612870136 8845918969 8845910863 8845911379 8845911923 8194455437 8262477098 8876348337 8945379300 8945479108 8876659932 7795006127 8612877226 8612870136 7709999738 8061303498 7035880534 8864788979 8061303498 7035880534 8864788979 7035880534 8864788979 7035880534 8864788979 7035880534 8864788979 7035880534 8864788979 8061303498 8264704521 7465352127 7174252163 8551857321 8264704521 7465352127 7174252163 7465352127 7174252163 7465352127 7174252163 7465352127 7174252163 7465352127 7174252163 7979272149 9344318998 8728174513 7979272149 9344318998 9344318998 9344318998 9344318998 9344318998 7906040746 8286208450 7317899495 9568028126 7906040746 8286208450 7317899495 8286208450 7317899495 8286208450 7317899495 8286208450 7317899495 8286208450 7317899495 8150108223 8318240920 9602035035 8797830589 8150108223 8318240920 9602035035 8318240920 9602035035 8318240920 9602035035 8318240920 9602035035 8318240920 9602035035 7977097410 9741738558 8399911470 7662683301 7977097410 9741738558 8399911470 9741738558 8399911470 9741738558 8399911470 9741738558 8399911470 9741738558 8399911470 8324916849 9672133224 8482824318 8324916849 9672133224 8482824318 9672133224 8482824318 9672133224 8482824318 9672133224 8482824318 9672133224 8482824318 8324916849 8113170000 7729692478 7729692478 7397009434 9618935664 9260750302 7217597803 7075121594 9065360540 9275123713 8756951133 8955924605 9158682827 9655273119 8113170000 7729692478 7729692478 7729692478 7729692478 7729692478 7939801444 8213782599 7254431471 8213782599 7254431471 8503397689 7710044413 7859852193 7528554828 8246052324 7107344378 9287253478 9906576570 8377194160 8351581336 7089927560 8180286903 8443864678 8797978927 7939801444 8213782599 7254431471 8213782599 7254431471 8213782599 7254431471 8213782599 7254431471 8213782599 7254431471 7979757306 8110484234 7831648607 7979757306 8110484234 7831648607 8110484234 7831648607 8110484234 7831648607 8110484234 7831648607 8110484234 7831648607 7979757306 7997123712 8061489449 8187953360 7997123712 8061489449 8187953360 8061489449 8187953360 8061489449 8187953360 8061489449 8187953360 8061489449 8187953360 7997123712 7953510457 8358086840 7958327780 7953510457 8358086840 7958327780 8358086840 7958327780 8358086840 7958327780 8358086840 7958327780 8358086840 7958327780 7953510457 7926112081 8941056685 7563129879 7926112081 8941056685 7563129879 8941056685 7563129879 8941056685 7563129879 8941056685 7563129879 8941056685 7563129879 7926112081 7893933214 7998754603 9141007060 7893933214 7998754603 9141007060 7998754603 9141007060 7998754603 9141007060 7998754603 9141007060 7998754603 9141007060 7893933214 7888279366 7078686666 9281519859 7888279366 7078686666 9281519859 7078686666 9281519859 7078686666 9281519859 7078686666 9281519859 7078686666 9281519859 7888279366 7892372833 7097665995 9446229641 7892372833 7097665995 9446229641 7097665995 9446229641 7097665995 9446229641 7097665995 9446229641 7097665995 9446229641 7892372833 7968996840 7496227456 8514161077 7968996840 7496227456 8514161077 7496227456 8514161077 7496227456 8514161077 7496227456 8514161077 7496227456 8514161077 7968996840 7974585219 9986160257 7917539790 7974585219 9986160257 7917539790 9986160257 7917539790 9986160257 7917539790 9986160257 7917539790 9986160257 7917539790 7974585219 8312719179 8851818198 9034194288 8851818198 9034194288 9216018669 9344396816 8998725771 7553521655 8435424529 8213626783 8312719179 8851818198 9034194288 8851818198 9034194288 8851818198 9034194288 8851818198 9034194288 8851818198 9034194288 7970312688 7884614597 7449419967 7970312688 7884614597 7449419967 7884614597 7449419967 7884614597 7449419967 7884614597 7449419967 7884614597 7449419967 7970312688 7970312688 7884614597 7449419967 8312719179 8851818198 9034194288 7968996840 7496227456 8514161077 7974585219 9986160257 7917539790 7892372833 7097665995 9446229641 7888279366 7078686666 9281519859 7926112081 8941056685 7563129879 7893933214 7998754603 9141007060 7953510457 8358086840 7958327780 7979757306 8110484234 7831648607 7997123712 8061489449 8187953360 8324916849 9672133224 8482824318 8113170000 7729692478 7939801444 8213782599 7254431471 8264704521 7465352127 7174252163 7979272149 9344318998 7906040746 8286208450 7317899495 8150108223 8318240920 9602035035 7977097410 9741738558 8399911470 8061303498 7035880534 8864788979 7986318372 8845910171 8845918969 8845910863 8845911379 8845911923 9212651252\n"
     ]
    }
   ],
   "source": [
    "phonePattern = re.compile(r'[7-9][0-9]{9}')\n",
    "emailpattern= re.compile(r'\\b[A-Za-z0-9._%+-]+@[A-Za-z0-9.-]+\\.[A-Z|a-z]{2,}\\b')\n",
    "\n",
    "for url in seedUrl:\n",
    "    response = requests.get(url, verify=False)\n",
    "    phone = re.findall(phonePattern, response.text)\n",
    "    email = re.findall(emailpattern, response.text)\n",
    "    f.write(' '.join(email))\n",
    "    f.write(' '.join(phone))\n",
    "f.close()\n",
    "f2 = open('link.txt', 'r')\n",
    "print(f2.read())"
   ]
  }
 ],
 "metadata": {
  "kernelspec": {
   "display_name": "Python 3",
   "language": "python",
   "name": "python3"
  },
  "language_info": {
   "codemirror_mode": {
    "name": "ipython",
    "version": 3
   },
   "file_extension": ".py",
   "mimetype": "text/x-python",
   "name": "python",
   "nbconvert_exporter": "python",
   "pygments_lexer": "ipython3",
   "version": "3.8.7"
  },
  "orig_nbformat": 4,
  "vscode": {
   "interpreter": {
    "hash": "28e1b576861228abcf292d5aee661eb2e4c4972fc2d268dd66cc4c0717cd3198"
   }
  }
 },
 "nbformat": 4,
 "nbformat_minor": 2
}
