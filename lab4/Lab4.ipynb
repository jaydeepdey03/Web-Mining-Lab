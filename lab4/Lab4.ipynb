{
 "cells": [
  {
   "attachments": {},
   "cell_type": "markdown",
   "metadata": {},
   "source": [
    "<h3 align=\"center\">Web Mining</h3>\n",
    "<p align=\"center\">Jaydeep Dey - 20BCE1419</p>"
   ]
  },
  {
   "cell_type": "code",
   "execution_count": 69,
   "metadata": {},
   "outputs": [
    {
     "name": "stdout",
     "output_type": "stream",
     "text": [
      "e8f6e1r6\n"
     ]
    }
   ],
   "source": [
    "# Apply run length encoding for the following string and compress it\n",
    "\n",
    "word = \"eeeeeeeefffffferrrrrrttt\"\n",
    "\n",
    "character = word[0]\n",
    "ans = []\n",
    "count = 0\n",
    "for i in range(len(word)):\n",
    "    if(word[i] == character):\n",
    "        count += 1\n",
    "    else:\n",
    "        ans.append(character)\n",
    "        ans.append(str(count))\n",
    "        character = word[i]\n",
    "        count = 1\n",
    "print(\"\".join(ans))"
   ]
  },
  {
   "cell_type": "code",
   "execution_count": 70,
   "metadata": {},
   "outputs": [],
   "source": [
    "# 2.\tConsider the following Inverted Index File with Terms, Occurrences and Posting List\n",
    "\n",
    "# i.\tApply Binary coding for term “Mercury” (apply for all doc ids)"
   ]
  },
  {
   "cell_type": "code",
   "execution_count": 71,
   "metadata": {},
   "outputs": [
    {
     "name": "stdout",
     "output_type": "stream",
     "text": [
      "1 10 11 111 1001 1010 "
     ]
    }
   ],
   "source": [
    "planets = [1, 2, 3, 7, 9, 10]\n",
    "for planet in planets:\n",
    "    print(bin(planet)[2:], end=\" \")"
   ]
  },
  {
   "cell_type": "code",
   "execution_count": 72,
   "metadata": {},
   "outputs": [
    {
     "name": "stdout",
     "output_type": "stream",
     "text": [
      "01 0001 000001 00000001 00000000000000000001 000000000000000000001 "
     ]
    }
   ],
   "source": [
    "# ii.\tApply Unary coding for term “Fiber”\n",
    "fibre = [1, 3, 5, 7, 19, 20]\n",
    "def unary(n):\n",
    "    return \"0\" * n + \"1\"\n",
    "\n",
    "for i in fibre:\n",
    "    print(unary(i), end=\" \")"
   ]
  },
  {
   "cell_type": "code",
   "execution_count": 73,
   "metadata": {},
   "outputs": [
    {
     "name": "stdout",
     "output_type": "stream",
     "text": [
      "0001100 000010001 000011001 000000010010100 000000010011100 000000010011111 000000010101100 "
     ]
    }
   ],
   "source": [
    "# iii.\tApply Elias Gamma Encoding for term “Airtel”\n",
    "\n",
    "airtel = [12, 17, 25, 148, 156, 159, 172]\n",
    "\n",
    "from math import log2, floor\n",
    "\n",
    "def elias_gamma(n):\n",
    "    l = floor(log2(n))\n",
    "    return \"0\" * l + \"1\" + bin(n)[3:]\n",
    "\n",
    "for i in range(len(airtel)):\n",
    "    print(elias_gamma(airtel[i]), end=\" \")"
   ]
  },
  {
   "cell_type": "code",
   "execution_count": 74,
   "metadata": {},
   "outputs": [
    {
     "name": "stdout",
     "output_type": "stream",
     "text": [
      "1 0100 0101 01111 00100001 00100010 "
     ]
    }
   ],
   "source": [
    "# elias delta encoding\n",
    "# def elias_delta(n):\n",
    "#     l = floor(log2(n))\n",
    "#     return elias_gamma(l) + bin(n)[3:]\n",
    "from math import log,floor\n",
    "mercury = [1, 2, 3, 7, 9, 10]\n",
    "def Binary_Representation_Without_MSB(x):\n",
    "    binary = \"{0:b}\".format(int(x))\n",
    "    binary_without_MSB = binary[1:]\n",
    "    return binary_without_MSB\n",
    "\n",
    "def EliasGammaEncode(k):\n",
    "    if (k == 0):\n",
    "        return '0'\n",
    "    N = 1 + floor(log(k, 2))\n",
    "    Unary = (N-1)*'0'+'1'\n",
    "    return Unary + Binary_Representation_Without_MSB(k)\n",
    "\n",
    "def EliasDeltaEncode(x):\n",
    "    Gamma = EliasGammaEncode(1 + floor(log(x, 2)))\n",
    "    binary_without_MSB = Binary_Representation_Without_MSB(x)\n",
    "    return Gamma+binary_without_MSB\n",
    "mercury_encoded_list = []\n",
    "for i in mercury:\n",
    "    mercury_encoded_list.append(EliasDeltaEncode(i))\n",
    "    print(EliasDeltaEncode(i), end=\" \")"
   ]
  },
  {
   "cell_type": "code",
   "execution_count": 75,
   "metadata": {},
   "outputs": [
    {
     "name": "stdout",
     "output_type": "stream",
     "text": [
      "1 2 3 7 9 10 "
     ]
    }
   ],
   "source": [
    "# Decoding mercury\n",
    "import math\n",
    "\n",
    "def Elias_Delta_Decoding(x):\n",
    "\tx = list(x)\n",
    "\tL=0\n",
    "\twhile True:\n",
    "\t\tif not x[L] == '0':\n",
    "\t\t\tbreak\n",
    "\t\tL= L + 1\n",
    "\tx=x[2*L+1:]\n",
    "\tx.insert(0,'1')\n",
    "\tx.reverse()\n",
    "\tn=0\n",
    "\tfor i in range(len(x)):\n",
    "\t\tif x[i]=='1':\n",
    "\t\t\tn=n+math.pow(2,i)\n",
    "\treturn int(n)\n",
    "\n",
    "for i in range(len(mercury_encoded_list)):\n",
    "    print(Elias_Delta_Decoding(mercury_encoded_list[i]), end=\" \")"
   ]
  },
  {
   "cell_type": "code",
   "execution_count": 76,
   "metadata": {},
   "outputs": [
    {
     "name": "stdout",
     "output_type": "stream",
     "text": [
      "001010111 0011001101 00111001110 00111111010 00010000010001 "
     ]
    }
   ],
   "source": [
    "# v.\tApply Elias Delta Encoding for term “Venus”\n",
    "venus = [23, 45, 78, 122, 145]\n",
    "\n",
    "for i in venus:\n",
    "    print(EliasDeltaEncode(i), end=\" \")"
   ]
  },
  {
   "cell_type": "code",
   "execution_count": 77,
   "metadata": {},
   "outputs": [
    {
     "name": "stdout",
     "output_type": "stream",
     "text": [
      "9\n"
     ]
    }
   ],
   "source": [
    "# vi.\tApply Elias Delta Decoding for “00101001”\n",
    "print(Elias_Delta_Decoding(\"00101001\"))"
   ]
  },
  {
   "cell_type": "code",
   "execution_count": 78,
   "metadata": {},
   "outputs": [
    {
     "name": "stdout",
     "output_type": "stream",
     "text": [
      "['00000010', '00001101', '11110000']\n",
      "['10011110']\n",
      "['00000111', '11100011']\n"
     ]
    }
   ],
   "source": [
    "def sum_to_normal(sum_array):\n",
    "    normal_array = [sum_array[0]]\n",
    "    for i in range(1, len(sum_array)):\n",
    "        normal_array.append(sum_array[i] - sum_array[i-1])\n",
    "    return normal_array\n",
    "\n",
    "sum_array = [1, 3, 9, 12]\n",
    "normal_array = sum_to_normal(sum_array)\n",
    "\n",
    "\n",
    "def vbencode(x):\n",
    "    binval=list()\n",
    "    while x>0:\n",
    "        rem=x%128\n",
    "        x=x//128\n",
    "        binval.insert(0,rem)\n",
    "    templist=list()\n",
    "    if(len(binval)==1):\n",
    "        y=bin(binval[0])\n",
    "        tempans=y[2:].zfill(8)\n",
    "        tempans='1'+tempans[1:]\n",
    "        templist.append(tempans)\n",
    "    else:\n",
    "        for i in range(len(binval)-1):\n",
    "            y=bin(binval[i])\n",
    "            templist.append(y[2:].zfill(8))\n",
    "        y=bin(binval[len(binval)-1])\n",
    "        tempans=y[2:].zfill(8)\n",
    "        tempans='1'+tempans[1:]\n",
    "        templist.append(tempans)\n",
    "    return templist\n",
    "docgaps=[34544, 34574, 35569]\n",
    "if(len(docgaps)>1):\n",
    "    docgaps=sum_to_normal(docgaps)\n",
    "    for i in range(len(docgaps)):\n",
    "        print(vbencode(docgaps[i]))\n",
    "else:\n",
    "    print(vbencode(docgaps))"
   ]
  },
  {
   "attachments": {},
   "cell_type": "markdown",
   "metadata": {},
   "source": [
    "<p align=\"center\">Q3. Signature</p>"
   ]
  },
  {
   "cell_type": "code",
   "execution_count": 79,
   "metadata": {},
   "outputs": [
    {
     "name": "stderr",
     "output_type": "stream",
     "text": [
      "[nltk_data] Downloading package punkt to\n",
      "[nltk_data]     C:\\Users\\jayde\\AppData\\Roaming\\nltk_data...\n",
      "[nltk_data]   Package punkt is already up-to-date!\n",
      "[nltk_data] Downloading package stopwords to\n",
      "[nltk_data]     C:\\Users\\jayde\\AppData\\Roaming\\nltk_data...\n",
      "[nltk_data]   Package stopwords is already up-to-date!\n"
     ]
    },
    {
     "data": {
      "text/plain": [
       "True"
      ]
     },
     "execution_count": 79,
     "metadata": {},
     "output_type": "execute_result"
    }
   ],
   "source": [
    "import hashlib\n",
    "import string\n",
    "import nltk\n",
    "from nltk.corpus import stopwords\n",
    "from nltk.tokenize import word_tokenize\n",
    "nltk.download(\"punkt\")\n",
    "nltk.download('stopwords')"
   ]
  },
  {
   "cell_type": "code",
   "execution_count": 80,
   "metadata": {},
   "outputs": [],
   "source": [
    "d=dict()\n",
    "def preprocess(doc,indx):\n",
    "    doc=doc[indx].lower()\n",
    "    word_tokens = word_tokenize(doc)\n",
    "    stop_words = set(stopwords.words('english'))\n",
    "    for i in range(0,len(word_tokens)):\n",
    "        if(word_tokens[i]==',' or word_tokens[i].lower() in stop_words or word_tokens[i].isnumeric()):\n",
    "            continue\n",
    "        else:\n",
    "            if indx in d.keys():\n",
    "                d[indx]+=\" \"+word_tokens[i]\n",
    "            else:\n",
    "                d[indx]=word_tokens[i]"
   ]
  },
  {
   "cell_type": "code",
   "execution_count": 81,
   "metadata": {},
   "outputs": [],
   "source": [
    "def generate_hash(word):\n",
    "    hash=int(hashlib.sha256(word.encode()).hexdigest(),16)%(2**30)\n",
    "    binary_hash=bin(hash)[2:].zfill(30)\n",
    "    return binary_hash"
   ]
  },
  {
   "cell_type": "code",
   "execution_count": 82,
   "metadata": {},
   "outputs": [],
   "source": [
    "def divide_sentence(sentence,n):\n",
    "    words=sentence.split()\n",
    "    num_blocks=len(words)//n+(len(words)%n>0)\n",
    "    blocks=[(\" \").join(words[i*n:(i+1)*n]) for i in range(num_blocks)]\n",
    "    return blocks"
   ]
  },
  {
   "cell_type": "code",
   "execution_count": 83,
   "metadata": {},
   "outputs": [],
   "source": [
    "def orval(sentence):\n",
    "    x=sentence.split(\" \")\n",
    "    res=generate_hash(x[0])\n",
    "    for i in range(1,len(x)):\n",
    "        temp=generate_hash(x[i].lower())\n",
    "        z=str(temp)\n",
    "        y=str(res)\n",
    "        int_1 = int(z, 2)\n",
    "        int_2 = int(y, 2)\n",
    "        result = int_1 | int_2\n",
    "        res=bin(result)[2:].zfill(30)\n",
    "    return res"
   ]
  },
  {
   "cell_type": "code",
   "execution_count": 84,
   "metadata": {},
   "outputs": [
    {
     "name": "stdout",
     "output_type": "stream",
     "text": [
      "7\n"
     ]
    }
   ],
   "source": [
    "sentence=\"This is a text. A text has many words. Words are made from letters. The text is made of letters. Made many words letters text. Letters are text.\"\n",
    "sentence = sentence.translate(str.maketrans('', '', string.punctuation))\n",
    "ans=divide_sentence(sentence,4)\n",
    "print(len(ans))\n",
    "d1=dict()\n",
    "for i in range(len(ans)):\n",
    "    preprocess(ans,i)\n",
    "for i,j in d.items():\n",
    "    y=orval(j)\n",
    "    d1[i]=y"
   ]
  },
  {
   "cell_type": "code",
   "execution_count": 85,
   "metadata": {},
   "outputs": [
    {
     "name": "stdout",
     "output_type": "stream",
     "text": [
      "['This is a text', 'A text has many', 'words Words are made', 'from letters The text', 'is made of letters', 'Made many words letters', 'text Letters are text']\n",
      "Found in Block 3 consisting of words Words are made\n",
      "Found in Block 5 consisting of is made of letters\n",
      "Found in Block 6 consisting of Made many words letters\n"
     ]
    }
   ],
   "source": [
    "# Made\n",
    "\n",
    "n=\"Made\"\n",
    "n=n.lower()\n",
    "ans1=generate_hash(n)\n",
    "ans2=int(ans1,2)\n",
    "print(ans)\n",
    "for i,j in d1.items():\n",
    "    y=int(str(ans1),2)\n",
    "    x=int(str(j),2)\n",
    "    res=y&x\n",
    "    if(res==ans2):\n",
    "        print(\"Found in Block {} consisting of {}\".format(i+1,ans[i]))\n"
   ]
  },
  {
   "cell_type": "code",
   "execution_count": 86,
   "metadata": {},
   "outputs": [
    {
     "name": "stdout",
     "output_type": "stream",
     "text": [
      "['This is a text', 'A text has many', 'words Words are made', 'from letters The text', 'is made of letters', 'Made many words letters', 'text Letters are text']\n",
      "Found in Block 4 consisting of from letters The text\n",
      "Found in Block 5 consisting of is made of letters\n",
      "Found in Block 6 consisting of Made many words letters\n",
      "Found in Block 7 consisting of text Letters are text\n"
     ]
    }
   ],
   "source": [
    "n=\"Letters\"\n",
    "n=n.lower()\n",
    "ans1=generate_hash(n)\n",
    "ans2=int(ans1,2)\n",
    "print(ans)\n",
    "for i,j in d1.items():\n",
    "    y=int(str(ans1),2)\n",
    "    x=int(str(j),2)\n",
    "    res=y&x\n",
    "    if(res==ans2):\n",
    "        print(\"Found in Block {} consisting of {}\".format(i+1,ans[i]))"
   ]
  }
 ],
 "metadata": {
  "kernelspec": {
   "display_name": "Python 3",
   "language": "python",
   "name": "python3"
  },
  "language_info": {
   "codemirror_mode": {
    "name": "ipython",
    "version": 3
   },
   "file_extension": ".py",
   "mimetype": "text/x-python",
   "name": "python",
   "nbconvert_exporter": "python",
   "pygments_lexer": "ipython3",
   "version": "3.8.7"
  },
  "orig_nbformat": 4,
  "vscode": {
   "interpreter": {
    "hash": "28e1b576861228abcf292d5aee661eb2e4c4972fc2d268dd66cc4c0717cd3198"
   }
  }
 },
 "nbformat": 4,
 "nbformat_minor": 2
}
